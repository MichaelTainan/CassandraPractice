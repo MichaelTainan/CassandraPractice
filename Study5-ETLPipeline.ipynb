{
 "cells": [
  {
   "cell_type": "markdown",
   "metadata": {},
   "source": [
    "# Cassandra Study 5-ETL Pipeline"
   ]
  },
  {
   "cell_type": "code",
   "execution_count": 1,
   "metadata": {},
   "outputs": [],
   "source": [
    "# Import Python packages \n",
    "import cassandra\n",
    "import os\n",
    "import glob\n",
    "import csv\n",
    "import prettytable as pt"
   ]
  },
  {
   "cell_type": "markdown",
   "metadata": {},
   "source": [
    "#### glob.glob() return a possibly empty list of path names"
   ]
  },
  {
   "cell_type": "code",
   "execution_count": 2,
   "metadata": {},
   "outputs": [
    {
     "name": "stdout",
     "output_type": "stream",
     "text": [
      "/Users/Michael/Documents/BigDataPractice/Project2\n"
     ]
    }
   ],
   "source": [
    "print(os.getcwd())\n",
    "filepath = os.getcwd() + '/hotel_data'\n",
    "file_path_list = []\n",
    "for root, dirs, files in os.walk(filepath):\n",
    "    #file_path_list = glob.glob(os.path.join(root,'*'))\n",
    "    this_Hierarchy_list = glob.glob(os.path.join(root,'*.csv'))\n",
    "    #print(this_Hierarchy_list)\n",
    "    for path in this_Hierarchy_list:\n",
    "        file_path_list.append(path)\n",
    "        #print(path)\n",
    "#print(file_path_list)"
   ]
  },
  {
   "cell_type": "markdown",
   "metadata": {},
   "source": [
    "#### with open() as csvfile: to open csvfile, and automatically call close() to close file.\n",
    "argument newline = ' ' means to allow the csv module to handle the line endings itself, if no this argument, probably add an extra line ending which we don't want.\n",
    "\n",
    "#### Dialects and Formatting Parameters\n",
    "use csv.register_dialect() to make it easier to specify the format of input records specific formatting parameters are grouped together into dialects.\n",
    "quoting = csv.QUOTE_ALL, QUOTE_ALL is a csv module constant, instructs writer objects to quote all fields.\n",
    "skipinitialspace=True, spaces immediately following the delimiter are ignored."
   ]
  },
  {
   "cell_type": "code",
   "execution_count": 3,
   "metadata": {},
   "outputs": [],
   "source": [
    "full_data_rows_list = [] \n",
    "for f in file_path_list:\n",
    "\n",
    "    with open(f, 'r', encoding = 'utf8', newline='') as csvfile: \n",
    "        # creating a csv reader object \n",
    "        csvreader = csv.reader(csvfile) \n",
    "        next(csvreader)       \n",
    "        for line in csvreader:\n",
    "            #print(line)\n",
    "            full_data_rows_list.append(line)   \n",
    "#print(len(full_data_rows_list))\n",
    "#print(full_data_rows_list)\n",
    "\n",
    "csv.register_dialect('myDialect', quoting=csv.QUOTE_ALL, skipinitialspace=True)\n",
    "\n",
    "with open('hotel_info_new.csv', 'w', encoding = 'utf8', newline='') as f:\n",
    "    writer = csv.writer(f, dialect='myDialect')\n",
    "    writer.writerow(['hotel_id','hotel_name','hotel_phone','country','postal_code','state_or_province',\\\n",
    "                     'city','street','poi_name','poi_description'])\n",
    "    for row in full_data_rows_list:\n",
    "        if (row[0] == ''):\n",
    "            continue\n",
    "        writer.writerow((row[0], row[1], row[2], row[3], row[4], row[5], row[6], row[7], row[8], row[9]))\n"
   ]
  },
  {
   "cell_type": "markdown",
   "metadata": {},
   "source": [
    "#### sum(1 for lin in open('filename.txt'))Get line count of a large file cheaply in Python"
   ]
  },
  {
   "cell_type": "code",
   "execution_count": 4,
   "metadata": {},
   "outputs": [
    {
     "name": "stdout",
     "output_type": "stream",
     "text": [
      "5\n"
     ]
    }
   ],
   "source": [
    "with open('hotel_info_new.csv', 'r', encoding = 'utf8') as f:\n",
    "    print(sum(1 for line in f))"
   ]
  },
  {
   "cell_type": "code",
   "execution_count": 5,
   "metadata": {},
   "outputs": [],
   "source": [
    "from cassandra.cluster import Cluster\n",
    "try:\n",
    "    cluster = Cluster(['127.0.0.1'])\n",
    "    session = cluster.connect()\n",
    "except Exception as e:\n",
    "    print(e)    "
   ]
  },
  {
   "cell_type": "code",
   "execution_count": 6,
   "metadata": {},
   "outputs": [],
   "source": [
    "try:\n",
    "    session.execute(\"\"\"\n",
    "    create keyspace if not exists hotel\n",
    "    with replication=\n",
    "    {'class':'SimpleStrategy','replication_factor':1\n",
    "    }\"\"\")\n",
    "except Exception as e:\n",
    "    print(e)    "
   ]
  },
  {
   "cell_type": "code",
   "execution_count": 7,
   "metadata": {},
   "outputs": [],
   "source": [
    "try:\n",
    "    session.set_keyspace('hotel')\n",
    "except Exception as e:\n",
    "    print(e)        "
   ]
  },
  {
   "cell_type": "code",
   "execution_count": 8,
   "metadata": {},
   "outputs": [],
   "source": [
    "query = \"CREATE TYPE IF NOT EXISTS address \"\n",
    "query = query + \"(street text, city text, state_or_province text, postal_code text, country text)\"\n",
    "try:\n",
    "    session.execute(query)\n",
    "except Exception as e:\n",
    "    print(e)"
   ]
  },
  {
   "cell_type": "code",
   "execution_count": 9,
   "metadata": {},
   "outputs": [],
   "source": [
    "query = \"CREATE TABLE IF NOT EXISTS hotels \"\n",
    "query = query + \"(id text, name text, phone text, address frozen<address>, PRIMARY KEY (id)) \"\n",
    "\n",
    "try:\n",
    "    session.execute(query)\n",
    "except Exception as e:\n",
    "    print(e)"
   ]
  },
  {
   "cell_type": "code",
   "execution_count": 10,
   "metadata": {},
   "outputs": [],
   "source": [
    "file = 'hotel_info_new.csv'\n",
    "\n",
    "with open(file, encoding = 'utf8') as f:\n",
    "    csvreader = csv.reader(f)\n",
    "    next(csvreader) # skip header\n",
    "    for line in csvreader:\n",
    "        query = \"INSERT INTO hotels (id, name, phone, address) \"\n",
    "        query = query + \"VALUES (%s, %s, %s, {street:%s, city:%s, state_or_province:%s, \\\n",
    "                         postal_code:%s, country:%s})\"\n",
    "        \n",
    "        try:\n",
    "            session.execute(query, (line[0], line[1], line[2], line[7],line[6], line[5], line[4], line[3]))\n",
    "        except Exception as e:\n",
    "            print(e)"
   ]
  },
  {
   "cell_type": "code",
   "execution_count": 11,
   "metadata": {},
   "outputs": [
    {
     "name": "stdout",
     "output_type": "stream",
     "text": [
      "+-------+---------------------+----------+---------------------------------------------------------------------------------------------------------------------------------------+\n",
      "|   id  |         name        |  phone   |                                                                address                                                                |\n",
      "+-------+---------------------+----------+---------------------------------------------------------------------------------------------------------------------------------------+\n",
      "| A1111 | Crowne Plaza Tainan | 63911899 | address(street='289 Zhouping Road Anping District', city='Tainan', state_or_province='Taiwan', postal_code='70841', country='Taiwan') |\n",
      "+-------+---------------------+----------+---------------------------------------------------------------------------------------------------------------------------------------+\n"
     ]
    }
   ],
   "source": [
    "query = \"SELECT id, name, phone, address FROM hotels WHERE id = 'A1111'\"\n",
    "try:\n",
    "    rows = session.execute(query)\n",
    "except Exception as e:\n",
    "    print(e)\n",
    "\n",
    "t = pt.PrettyTable(['id', 'name', 'phone', 'address'])\n",
    "for row in rows:\n",
    "    t.add_row([row.id, row.name, row.phone, row.address])\n",
    "    \n",
    "print(t)    "
   ]
  },
  {
   "cell_type": "code",
   "execution_count": 12,
   "metadata": {},
   "outputs": [],
   "source": [
    "query = \"CREATE TABLE IF NOT EXISTS hotels_by_poi \"\n",
    "query = query + \"(poi_name text, hotel_id text, name text, phone text, address frozen<address>, PRIMARY KEY (poi_name, hotel_id)) \"\n",
    "try:\n",
    "    session.execute(query)\n",
    "except Exception as e:\n",
    "    print(e)\n",
    "    \n",
    "query = \"CREATE TABLE IF NOT EXISTS pois_by_hotel\"\n",
    "query = query + \"(hotel_id text, poi_name text, description text, PRIMARY KEY (hotel_id, poi_name))\"\n",
    "\n",
    "try:\n",
    "    session.execute(query)\n",
    "except Exception as e:\n",
    "    print(e)"
   ]
  },
  {
   "cell_type": "code",
   "execution_count": 13,
   "metadata": {},
   "outputs": [],
   "source": [
    "file = 'hotel_info_new.csv'\n",
    "\n",
    "with open(file, encoding = 'utf8') as f:\n",
    "    csvreader = csv.reader(f)\n",
    "    next(csvreader) # skip header\n",
    "    for line in csvreader:        \n",
    "        query = \"INSERT INTO hotels_by_poi (poi_name, hotel_id, name, phone, address)\"\n",
    "        query = query + \" VALUES (%s, %s, %s, %s, {street:%s, city:%s, state_or_province:%s, \\\n",
    "                         postal_code:%s, country:%s})\"\n",
    "        \n",
    "        try:\n",
    "            session.execute(query, (line[8], line[0], line[1], line[2], line[7],line[6], line[5], line[4], line[3]))\n",
    "        except Exception as e:\n",
    "            print(e)"
   ]
  },
  {
   "cell_type": "code",
   "execution_count": 14,
   "metadata": {},
   "outputs": [
    {
     "name": "stdout",
     "output_type": "stream",
     "text": [
      "+-------------------------+----------+--------------------+----------+----------------------------------------------------------------------------------------------------------------------------------------+\n",
      "|         poi_name        | hotel_id |        name        |  phone   |                                                                address                                                                 |\n",
      "+-------------------------+----------+--------------------+----------+----------------------------------------------------------------------------------------------------------------------------------------+\n",
      "| Tainan Confucius Temple |  A1112   | Silks Place Tainan | 62136290 | address(street='No. 1  Heyi Rd West Central District', city='Tainan', state_or_province='Taiwan', postal_code='700', country='Taiwan') |\n",
      "+-------------------------+----------+--------------------+----------+----------------------------------------------------------------------------------------------------------------------------------------+\n"
     ]
    }
   ],
   "source": [
    "query = \"SELECT poi_name, hotel_id, name, phone, address FROM hotels_by_poi WHERE poi_name='Tainan Confucius Temple'\"\n",
    "try:\n",
    "    rows = session.execute(query)\n",
    "except Exception as e:\n",
    "    print(e)\n",
    "\n",
    "t = pt.PrettyTable(['poi_name', 'hotel_id', 'name', 'phone', 'address'])\n",
    "for row in rows:\n",
    "    t.add_row([row.poi_name, row.hotel_id, row.name, row.phone, row.address])\n",
    "    \n",
    "print(t)     "
   ]
  },
  {
   "cell_type": "code",
   "execution_count": 15,
   "metadata": {},
   "outputs": [],
   "source": [
    "file = 'hotel_info_new.csv'\n",
    "\n",
    "with open(file, encoding = 'utf8') as f:\n",
    "    csvreader = csv.reader(f)\n",
    "    next(csvreader) # skip header\n",
    "    for line in csvreader:        \n",
    "        query = \"INSERT INTO pois_by_hotel (hotel_id, poi_name, description)\"\n",
    "        query = query + \" VALUES (%s, %s, %s)\"\n",
    "        \n",
    "        try:\n",
    "            session.execute(query, (line[0], line[8], line[9]))\n",
    "        except Exception as e:\n",
    "            print(e)"
   ]
  },
  {
   "cell_type": "code",
   "execution_count": 16,
   "metadata": {},
   "outputs": [
    {
     "name": "stdout",
     "output_type": "stream",
     "text": [
      "+----------+------------------------------+-------------------------------------------------------------------------------------------------+\n",
      "| hotel_id |           poi_name           |                                           description                                           |\n",
      "+----------+------------------------------+-------------------------------------------------------------------------------------------------+\n",
      "|  A1112   | Tainan Art Museum Building 2 | Striking space for contemporary Taiwanese art & sculpture exhibitions with a restaurant & cafe. |\n",
      "|  A1112   |   Tainan Confucius Temple    |  Small 17th-century Confucian temple featuring traditional architecture & a tranquil courtyard. |\n",
      "+----------+------------------------------+-------------------------------------------------------------------------------------------------+\n"
     ]
    }
   ],
   "source": [
    "query = \"SELECT hotel_id, poi_name, description FROM pois_by_hotel WHERE hotel_id='A1112'\"\n",
    "try:\n",
    "    rows = session.execute(query)\n",
    "except Exception as e:\n",
    "    print(e)\n",
    "\n",
    "t = pt.PrettyTable(['hotel_id', 'poi_name', 'description'])\n",
    "for row in rows:\n",
    "    t.add_row([row.hotel_id, row.poi_name, row.description])\n",
    "    \n",
    "print(t)     "
   ]
  },
  {
   "cell_type": "code",
   "execution_count": 17,
   "metadata": {},
   "outputs": [],
   "source": [
    "query = \"drop table hotels\"\n",
    "try:\n",
    "    rows = session.execute(query)\n",
    "except Exception as e:\n",
    "    print(e)\n",
    "    \n",
    "query = \"drop table hotels_by_poi\"\n",
    "try:\n",
    "    rows = session.execute(query)\n",
    "except Exception as e:\n",
    "    print(e)  \n",
    "\n",
    "query = \"drop table pois_by_hotel\"\n",
    "try:\n",
    "    rows = session.execute(query)\n",
    "except Exception as e:\n",
    "    print(e)        "
   ]
  },
  {
   "cell_type": "code",
   "execution_count": 18,
   "metadata": {},
   "outputs": [],
   "source": [
    "session.shutdown()\n",
    "cluster.shutdown()"
   ]
  },
  {
   "cell_type": "code",
   "execution_count": null,
   "metadata": {},
   "outputs": [],
   "source": []
  }
 ],
 "metadata": {
  "kernelspec": {
   "display_name": "Python 3 (ipykernel)",
   "language": "python",
   "name": "python3"
  },
  "language_info": {
   "codemirror_mode": {
    "name": "ipython",
    "version": 3
   },
   "file_extension": ".py",
   "mimetype": "text/x-python",
   "name": "python",
   "nbconvert_exporter": "python",
   "pygments_lexer": "ipython3",
   "version": "3.10.5"
  }
 },
 "nbformat": 4,
 "nbformat_minor": 4
}
