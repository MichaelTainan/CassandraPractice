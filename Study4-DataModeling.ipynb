{
 "cells": [
  {
   "cell_type": "markdown",
   "metadata": {},
   "source": [
    "# Cassandra Study 4-Data modeling 2"
   ]
  },
  {
   "cell_type": "markdown",
   "metadata": {},
   "source": [
    "## Query-Driven Modeling Practice"
   ]
  },
  {
   "cell_type": "code",
   "execution_count": 1,
   "metadata": {},
   "outputs": [],
   "source": [
    "import cassandra"
   ]
  },
  {
   "cell_type": "code",
   "execution_count": 2,
   "metadata": {},
   "outputs": [],
   "source": [
    "from cassandra.cluster import Cluster\n",
    "try:\n",
    "    cluster = Cluster(['127.0.0.1'])\n",
    "    session = cluster.connect()\n",
    "except Exception as e:\n",
    "    print(e)    "
   ]
  },
  {
   "cell_type": "code",
   "execution_count": 3,
   "metadata": {},
   "outputs": [
    {
     "name": "stdout",
     "output_type": "stream",
     "text": [
      "Error from server: code=2200 [Invalid query] message=\"No keyspace has been specified. USE a keyspace, or explicitly specify keyspace.tablename\"\n"
     ]
    }
   ],
   "source": [
    "try:\n",
    "    query = \"select * from hotels_by_poi\"\n",
    "    session.execute(query)\n",
    "except Exception as e:\n",
    "    print(e)"
   ]
  },
  {
   "cell_type": "code",
   "execution_count": 4,
   "metadata": {},
   "outputs": [],
   "source": [
    "try:\n",
    "    session.execute(\"\"\"\n",
    "    create keyspace if not exists miketest\n",
    "    with replication=\n",
    "    {'class':'SimpleStrategy','replication_factor':1\n",
    "    }\"\"\")\n",
    "except Exception as e:\n",
    "    print(e)    "
   ]
  },
  {
   "cell_type": "code",
   "execution_count": 5,
   "metadata": {},
   "outputs": [],
   "source": [
    "try:\n",
    "    session.set_keyspace('miketest')\n",
    "except Exception as e:\n",
    "    print(e)        "
   ]
  },
  {
   "cell_type": "markdown",
   "metadata": {},
   "source": [
    "### Defining application queries"
   ]
  },
  {
   "cell_type": "markdown",
   "metadata": {},
   "source": [
    "Q1. Find hotels near a given point of interest.\n",
    "\n",
    "Q2. Find information about a given hotel, such as its name and location.\n",
    "\n",
    "Q3. Find points of interest near a given hotel.\n",
    "\n",
    "Q4. Find an available room in a given date range.\n",
    "\n",
    "Q5. Find the rate and amenities for a room.\n",
    "\n",
    "Q6. Lookup a reservation by confirmation number.\n",
    "\n",
    "Q7. Lookup all reservations by guest name.\n",
    "\n",
    "Q8. Lookup a reservation by hotel, date, and guest name.\n",
    "\n",
    "Q9. View guest details.\n",
    "\n",
    "Reference\n",
    "https://cassandra.apache.org/doc/latest/cassandra/data_modeling/data_modeling_queries.html"
   ]
  },
  {
   "cell_type": "markdown",
   "metadata": {},
   "source": [
    "### Create Logical data model tables"
   ]
  },
  {
   "cell_type": "code",
   "execution_count": 43,
   "metadata": {},
   "outputs": [],
   "source": [
    "query = \"CREATE TABLE IF NOT EXISTS hotels_by_poi\"\n",
    "query = query + \"(poi_name text, hotel_id int, name text, phone int, address text, PRIMARY KEY (poi_name, hotel_id))\"\n",
    "try:\n",
    "    session.execute(query)\n",
    "except Exception as e:\n",
    "    print(e)"
   ]
  },
  {
   "cell_type": "code",
   "execution_count": 44,
   "metadata": {},
   "outputs": [],
   "source": [
    "query = \"CREATE TABLE IF NOT EXISTS hotels\"\n",
    "query = query + \"(hotel_id int, name text, phone text, address text, PRIMARY KEY (hotel_id))\"\n",
    "try:\n",
    "    session.execute(query)\n",
    "except Exception as e:\n",
    "    print(e)"
   ]
  },
  {
   "cell_type": "code",
   "execution_count": 45,
   "metadata": {},
   "outputs": [],
   "source": [
    "query = \"CREATE TABLE IF NOT EXISTS pois_by_hotel\"\n",
    "query = query + \"(hotel_id int, poi_name text, description text, PRIMARY KEY (hotel_id, poi_name))\"\n",
    "try:\n",
    "    session.execute(query)\n",
    "except Exception as e:\n",
    "    print(e)"
   ]
  },
  {
   "cell_type": "code",
   "execution_count": 46,
   "metadata": {},
   "outputs": [],
   "source": [
    "query = \"CREATE TABLE IF NOT EXISTS available_rooms_by_hotel_date\"\n",
    "query = query + \"(hotel_id text, date date, room_number int, is_abailable boolean, PRIMARY KEY (hotel_id, date, room_number))\"\n",
    "try:\n",
    "    session.execute(query)\n",
    "except Exception as e:\n",
    "    print(e)"
   ]
  },
  {
   "cell_type": "code",
   "execution_count": 47,
   "metadata": {},
   "outputs": [],
   "source": [
    "query = \"CREATE TABLE IF NOT EXISTS amenities_by_room\"\n",
    "query = query + \"(hotel_id text, room_id int, amenity_name text, description text, PRIMARY KEY ((hotel_id, room_id), amenity_name))\"\n",
    "try:\n",
    "    session.execute(query)\n",
    "except Exception as e:\n",
    "    print(e)"
   ]
  },
  {
   "cell_type": "code",
   "execution_count": 48,
   "metadata": {},
   "outputs": [],
   "source": [
    "query = \"CREATE TABLE IF NOT EXISTS reservations_by_confirmation\"\n",
    "query = query + \"(confirm_number int, hotel_id int, room_id int, start_date date, end_date date, guest_id int, PRIMARY KEY (confirm_number, hotel_id))\"\n",
    "try:\n",
    "    session.execute(query)\n",
    "except Exception as e:\n",
    "    print(e)"
   ]
  },
  {
   "cell_type": "code",
   "execution_count": 49,
   "metadata": {},
   "outputs": [],
   "source": [
    "query = \"CREATE TABLE IF NOT EXISTS reservations_by_guest\"\n",
    "query = query + \"(guest_last_name text, hotel_id int, guest_id int, room_id int, start_date date, end_date date, confirm_number int, PRIMARY KEY (guest_last_name, hotel_id, guest_id))\"\n",
    "try:\n",
    "    session.execute(query)\n",
    "except Exception as e:\n",
    "    print(e)"
   ]
  },
  {
   "cell_type": "code",
   "execution_count": 50,
   "metadata": {},
   "outputs": [],
   "source": [
    "query = \"CREATE TABLE IF NOT EXISTS reservations_by_hotel_date\"\n",
    "query = query + \"(hotel_id int, start_date date, room_id int, end_date date, confirm_number int, gyest_id int, PRIMARY KEY ((hotel_id, start_date), room_id))\"\n",
    "try:\n",
    "    session.execute(query)\n",
    "except Exception as e:\n",
    "    print(e)"
   ]
  },
  {
   "cell_type": "code",
   "execution_count": 51,
   "metadata": {},
   "outputs": [],
   "source": [
    "query = \"CREATE TABLE IF NOT EXISTS guests\"\n",
    "query = query + \"(guest_id int, first_name text, last_name text, title text, email text, phone_numbers int, address text, PRIMARY KEY (guest_id))\"\n",
    "try:\n",
    "    session.execute(query)\n",
    "except Exception as e:\n",
    "    print(e)"
   ]
  },
  {
   "cell_type": "markdown",
   "metadata": {},
   "source": [
    "### The above create table CQL is just for thinking, not the actual tables"
   ]
  },
  {
   "cell_type": "code",
   "execution_count": 57,
   "metadata": {},
   "outputs": [
    {
     "name": "stdout",
     "output_type": "stream",
     "text": [
      "Error from server: code=2200 [Invalid query] message=\"Table 'miketest.hotels_by_poi' doesn't exist\"\n",
      "Error from server: code=2200 [Invalid query] message=\"Table 'miketest.hotels' doesn't exist\"\n",
      "Error from server: code=2200 [Invalid query] message=\"Table 'miketest.pois_by_hotel' doesn't exist\"\n",
      "Error from server: code=2200 [Invalid query] message=\"Table 'miketest.available_rooms_by_hotel_date' doesn't exist\"\n",
      "Error from server: code=2200 [Invalid query] message=\"Table 'miketest.amenities_by_room' doesn't exist\"\n",
      "Error from server: code=2200 [Invalid query] message=\"Table 'miketest.reservations_by_confirmation' doesn't exist\"\n",
      "Error from server: code=2200 [Invalid query] message=\"Table 'miketest.reservations_by_guest' doesn't exist\"\n",
      "Error from server: code=2200 [Invalid query] message=\"Table 'miketest.reservations_by_hotel_date' doesn't exist\"\n",
      "Error from server: code=2200 [Invalid query] message=\"Table 'miketest.guests' doesn't exist\"\n"
     ]
    }
   ],
   "source": [
    "query = \"drop table hotels_by_poi\"\n",
    "try:\n",
    "    rows = session.execute(query)\n",
    "except Exception as e:\n",
    "    print(e)\n",
    "query = \"drop table hotels\"\n",
    "try:\n",
    "    rows = session.execute(query)\n",
    "except Exception as e:\n",
    "    print(e)\n",
    "query = \"drop table pois_by_hotel\"\n",
    "try:\n",
    "    rows = session.execute(query)\n",
    "except Exception as e:\n",
    "    print(e)\n",
    "query = \"drop table available_rooms_by_hotel_date\"\n",
    "try:\n",
    "    rows = session.execute(query)\n",
    "except Exception as e:\n",
    "    print(e)\n",
    "query = \"drop table amenities_by_room\"\n",
    "try:\n",
    "    rows = session.execute(query)\n",
    "except Exception as e:\n",
    "    print(e)\n",
    "query = \"drop table reservations_by_confirmation\"\n",
    "try:\n",
    "    rows = session.execute(query)\n",
    "except Exception as e:\n",
    "    print(e)\n",
    "query = \"drop table reservations_by_guest\"\n",
    "try:\n",
    "    rows = session.execute(query)\n",
    "except Exception as e:\n",
    "    print(e)\n",
    "query = \"drop table reservations_by_hotel_date\"\n",
    "try:\n",
    "    rows = session.execute(query)\n",
    "except Exception as e:\n",
    "    print(e)\n",
    "query = \"drop table guests\"\n",
    "try:\n",
    "    rows = session.execute(query)\n",
    "except Exception as e:\n",
    "    print(e)    "
   ]
  },
  {
   "cell_type": "markdown",
   "metadata": {},
   "source": [
    "### Transform into Physical Data Modeling"
   ]
  },
  {
   "cell_type": "code",
   "execution_count": 6,
   "metadata": {},
   "outputs": [],
   "source": [
    "try:\n",
    "    session.execute(\"\"\"\n",
    "    create keyspace if not exists hotel\n",
    "    with replication=\n",
    "    {'class':'SimpleStrategy','replication_factor':1\n",
    "    }\"\"\")\n",
    "except Exception as e:\n",
    "    print(e)    "
   ]
  },
  {
   "cell_type": "code",
   "execution_count": 32,
   "metadata": {},
   "outputs": [],
   "source": [
    "try:\n",
    "    session.set_keyspace('hotel')\n",
    "except Exception as e:\n",
    "    print(e)  "
   ]
  },
  {
   "cell_type": "markdown",
   "metadata": {},
   "source": [
    "#### 1. create new column type about address data"
   ]
  },
  {
   "cell_type": "code",
   "execution_count": 34,
   "metadata": {},
   "outputs": [],
   "source": [
    "query = \"CREATE TYPE IF NOT EXISTS address \"\n",
    "query = query + \"(street text, city text, state_or_province text, postal_code text, country text)\"\n",
    "try:\n",
    "    session.execute(query)\n",
    "except Exception as e:\n",
    "    print(e)"
   ]
  },
  {
   "cell_type": "markdown",
   "metadata": {},
   "source": [
    "#### 2. Create hotels table include address type column."
   ]
  },
  {
   "cell_type": "code",
   "execution_count": 35,
   "metadata": {},
   "outputs": [],
   "source": [
    "query = \"CREATE TABLE IF NOT EXISTS hotels \"\n",
    "query = query + \"(id text, name text, phone text, address frozen<address>, PRIMARY KEY (id)) \"\n",
    "query = query + \"WITH comment ='Q2. Find information about a hotel'\"\n",
    "\n",
    "try:\n",
    "    session.execute(query)\n",
    "except Exception as e:\n",
    "    print(e)"
   ]
  },
  {
   "cell_type": "markdown",
   "metadata": {},
   "source": [
    "#### 3. Insert test row to check if the create table CQL currect and how it display data."
   ]
  },
  {
   "cell_type": "code",
   "execution_count": 37,
   "metadata": {},
   "outputs": [],
   "source": [
    "query = \"INSERT INTO hotels (id, name, phone, address)\"\n",
    "query = query + \" VALUES (%s, %s, %s, {street:%s, city:%s, state_or_province:%s, postal_code:%s, country:%s})\"\n",
    "\n",
    "try:\n",
    "    session.execute(query, (\"A1111\", \"Test Hotel\", \"062222222\", \"No. 1, Ln. 1, Daren St., West Central Dist.\",\"Tainan\",\"Taiwan\",\"700004\",\"Taiwan\"))\n",
    "except Exception as e:\n",
    "    print(e)"
   ]
  },
  {
   "cell_type": "code",
   "execution_count": 39,
   "metadata": {},
   "outputs": [
    {
     "name": "stdout",
     "output_type": "stream",
     "text": [
      "A1111 Test Hotel 062222222 address(street='No. 1, Ln. 1, Daren St., West Central Dist.', city='Tainan', state_or_province='Taiwan', postal_code='700004', country='Taiwan')\n"
     ]
    }
   ],
   "source": [
    "query = 'SELECT * FROM hotels'\n",
    "try:\n",
    "    rows = session.execute(query)\n",
    "except Exception as e:\n",
    "    print(e)\n",
    "    \n",
    "for row in rows:\n",
    "    print (row.id, row.name, row.phone, row.address)"
   ]
  },
  {
   "cell_type": "markdown",
   "metadata": {},
   "source": [
    "#### 4. delete test row"
   ]
  },
  {
   "cell_type": "code",
   "execution_count": 40,
   "metadata": {},
   "outputs": [],
   "source": [
    "query = \"delete from hotels where id = 'A1111'\"\n",
    "try:\n",
    "    rows = session.execute(query)\n",
    "except Exception as e:\n",
    "    print(e) "
   ]
  },
  {
   "cell_type": "markdown",
   "metadata": {},
   "source": [
    "#### 5. continue create other physical table."
   ]
  },
  {
   "cell_type": "code",
   "execution_count": 41,
   "metadata": {},
   "outputs": [],
   "source": [
    "query = \"CREATE TABLE IF NOT EXISTS hotels_by_poi \"\n",
    "query = query + \"(poi_name text, hotel_id text, name text, phone text, address frozen<address>, PRIMARY KEY (poi_name, hotel_id)) \"\n",
    "query = query + \"WITH comment ='Q1. Find hotels near given poi' and CLUSTERING ORDER BY (hotel_id ASC)\"\n",
    "try:\n",
    "    session.execute(query)\n",
    "except Exception as e:\n",
    "    print(e)\n",
    "    \n",
    "query = \"CREATE TABLE IF NOT EXISTS pois_by_hotel\"\n",
    "query = query + \"(hotel_id text, poi_name text, description text, PRIMARY KEY (hotel_id, poi_name))\"\n",
    "query = query + \"WITH comment ='Q3. Find pois near a hotel'\"\n",
    "\n",
    "try:\n",
    "    session.execute(query)\n",
    "except Exception as e:\n",
    "    print(e)\n",
    "    \n",
    "query = \"CREATE TABLE IF NOT EXISTS available_rooms_by_hotel_date \"\n",
    "query = query + \"(hotel_id text, date date, room_number smallint, is_abailable boolean, PRIMARY KEY (hotel_id, date, room_number))\"\n",
    "query = query + \"WITH comment ='Q4. Find available rooms by hotel date'\"\n",
    "try:\n",
    "    session.execute(query)\n",
    "except Exception as e:\n",
    "    print(e)    \n",
    "    \n",
    "query = \"CREATE TABLE IF NOT EXISTS amenities_by_room \"\n",
    "query = query + \"(hotel_id text, room_id smallint, amenity_name text, description text, PRIMARY KEY ((hotel_id, room_id), amenity_name)) \"\n",
    "query = query + \"WITH comment ='Q5. Find amenities for a room'\"\n",
    "try:\n",
    "    session.execute(query)\n",
    "except Exception as e:\n",
    "    print(e)    "
   ]
  },
  {
   "cell_type": "markdown",
   "metadata": {},
   "source": [
    "#### If you need to drop table when you test, then below CQL can run"
   ]
  },
  {
   "cell_type": "code",
   "execution_count": null,
   "metadata": {},
   "outputs": [],
   "source": [
    "query = \"drop table hotels_by_poi\"\n",
    "try:\n",
    "    rows = session.execute(query)\n",
    "except Exception as e:\n",
    "    print(e)\n",
    "query = \"drop table hotels\"\n",
    "try:\n",
    "    rows = session.execute(query)\n",
    "except Exception as e:\n",
    "    print(e)\n",
    "query = \"drop table pois_by_hotel\"\n",
    "try:\n",
    "    rows = session.execute(query)\n",
    "except Exception as e:\n",
    "    print(e)\n",
    "query = \"drop table available_rooms_by_hotel_date\"\n",
    "try:\n",
    "    rows = session.execute(query)\n",
    "except Exception as e:\n",
    "    print(e)\n",
    "query = \"drop table amenities_by_room\"\n",
    "try:\n",
    "    rows = session.execute(query)\n",
    "except Exception as e:\n",
    "    print(e)"
   ]
  },
  {
   "cell_type": "code",
   "execution_count": 42,
   "metadata": {},
   "outputs": [],
   "source": [
    "try:\n",
    "    session.execute(\"\"\"\n",
    "    create keyspace if not exists reservation\n",
    "    with replication=\n",
    "    {'class':'SimpleStrategy','replication_factor':1\n",
    "    }\"\"\")\n",
    "except Exception as e:\n",
    "    print(e)    "
   ]
  },
  {
   "cell_type": "code",
   "execution_count": 43,
   "metadata": {},
   "outputs": [],
   "source": [
    "try:\n",
    "    session.set_keyspace('reservation')\n",
    "except Exception as e:\n",
    "    print(e)  "
   ]
  },
  {
   "cell_type": "code",
   "execution_count": 45,
   "metadata": {},
   "outputs": [],
   "source": [
    "query = \"CREATE TYPE IF NOT EXISTS address \"\n",
    "query = query + \"(street text, city text, state_or_province text, postal_code text, country text)\"\n",
    "try:\n",
    "    session.execute(query)\n",
    "except Exception as e:\n",
    "    print(e)"
   ]
  },
  {
   "cell_type": "code",
   "execution_count": 48,
   "metadata": {},
   "outputs": [],
   "source": [
    "query = \"CREATE TABLE IF NOT EXISTS reservations_by_confirmation \"\n",
    "query = query + \"(confirm_number text, hotel_id text, start_date date, end_date date, room_number smallint, guest_id uuid, PRIMARY KEY (confirm_number, hotel_id, start_date, room_number)) \"\n",
    "query = query + \"WITH comment ='Q6. Find reservations by confirmation number'\"\n",
    "try:\n",
    "    session.execute(query)\n",
    "except Exception as e:\n",
    "    print(e)\n",
    "\n",
    "query = \"CREATE TABLE IF NOT EXISTS reservations_by_hotel_date\"\n",
    "query = query + \"(hotel_id text, start_date date, end_date date, room_number smallint, confirm_number text, guest_id uuid, PRIMARY KEY ((hotel_id, start_date), room_number)) \"\n",
    "query = query + \"WITH comment ='Q7. Find reservations by hotel and date'\"\n",
    "try:\n",
    "    session.execute(query)\n",
    "except Exception as e:\n",
    "    print(e)    \n",
    "    \n",
    "query = \"CREATE TABLE IF NOT EXISTS reservations_by_guest \"\n",
    "query = query + \"(guest_last_name text, hotel_id text, room_number smallint, start_date date, end_date date, confirm_number text, guest_id uuid, PRIMARY KEY (guest_last_name, hotel_id)) \"\n",
    "query = query + \"WITH comment ='Q8. Find reservations by guest name'\"\n",
    "try:\n",
    "    session.execute(query)\n",
    "except Exception as e:\n",
    "    print(e)    \n",
    "    \n",
    "\n",
    "    \n",
    "query = \"CREATE TABLE IF NOT EXISTS guests \"\n",
    "query = query + \"(guest_id uuid, first_name text, last_name text, title text, emails set<text>, phone_numbers list<text>, address map<text, frozen<address>>, confirm_number text, PRIMARY KEY (guest_id))\"\n",
    "query = query + \"WITH comment ='Q9. Find guest by ID'\"\n",
    "try:\n",
    "    session.execute(query)\n",
    "except Exception as e:\n",
    "    print(e)    "
   ]
  },
  {
   "cell_type": "markdown",
   "metadata": {},
   "source": [
    "#### If you need to drop table when you test, then below CQL can run"
   ]
  },
  {
   "cell_type": "code",
   "execution_count": 49,
   "metadata": {},
   "outputs": [],
   "source": [
    "query = \"drop table reservations_by_confirmation\"\n",
    "try:\n",
    "    rows = session.execute(query)\n",
    "except Exception as e:\n",
    "    print(e)\n",
    "query = \"drop table reservations_by_guest\"\n",
    "try:\n",
    "    rows = session.execute(query)\n",
    "except Exception as e:\n",
    "    print(e)\n",
    "query = \"drop table reservations_by_hotel_date\"\n",
    "try:\n",
    "    rows = session.execute(query)\n",
    "except Exception as e:\n",
    "    print(e)\n",
    "query = \"drop table guests\"\n",
    "try:\n",
    "    rows = session.execute(query)\n",
    "except Exception as e:\n",
    "    print(e)    "
   ]
  },
  {
   "cell_type": "code",
   "execution_count": null,
   "metadata": {},
   "outputs": [],
   "source": []
  },
  {
   "cell_type": "code",
   "execution_count": 50,
   "metadata": {},
   "outputs": [],
   "source": [
    "session.shutdown()\n",
    "cluster.shutdown()"
   ]
  },
  {
   "cell_type": "code",
   "execution_count": null,
   "metadata": {},
   "outputs": [],
   "source": []
  }
 ],
 "metadata": {
  "kernelspec": {
   "display_name": "Python 3",
   "language": "python",
   "name": "python3"
  },
  "language_info": {
   "codemirror_mode": {
    "name": "ipython",
    "version": 3
   },
   "file_extension": ".py",
   "mimetype": "text/x-python",
   "name": "python",
   "nbconvert_exporter": "python",
   "pygments_lexer": "ipython3",
   "version": "3.9.1"
  }
 },
 "nbformat": 4,
 "nbformat_minor": 4
}
